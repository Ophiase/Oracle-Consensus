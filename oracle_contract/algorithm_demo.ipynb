{
 "cells": [
  {
   "cell_type": "markdown",
   "metadata": {},
   "source": [
    "# Oracle Consensus Algorithms"
   ]
  },
  {
   "cell_type": "code",
   "execution_count": 5,
   "metadata": {},
   "outputs": [],
   "source": [
    "import numpy as np"
   ]
  },
  {
   "cell_type": "markdown",
   "metadata": {},
   "source": [
    "## Sample Data"
   ]
  },
  {
   "cell_type": "code",
   "execution_count": 11,
   "metadata": {},
   "outputs": [],
   "source": [
    "N_oracles = 20\n",
    "failing_percentage = 0.2\n",
    "N_failing_oracles = round(N_oracles * failing_percentage)\n"
   ]
  },
  {
   "cell_type": "code",
   "execution_count": 19,
   "metadata": {},
   "outputs": [],
   "source": [
    "def normalize(x) :\n",
    "    return np.arctan(x)\n",
    "\n",
    "def generate_oracles(N_oracles, N_failing_oracles, b=0, sigma=1):\n",
    "    oracles = [\n",
    "        (normalize(np.random.normal(b, sigma)), True)\n",
    "        if i >= N_failing_oracles \n",
    "        else (np.random.uniform(0, 1), False)\n",
    "        for i in range(N_oracles)\n",
    "    ]\n",
    "\n",
    "    np.random.shuffle(oracles)\n",
    "\n",
    "    disjoint = tuple_listes = tuple(map(list, zip(*oracles)))\n",
    "\n",
    "    return disjoint\n",
    "\n",
    "oracles, true_oracles = generate_oracles(N_oracles, N_failing_oracles, 0, 1)"
   ]
  },
  {
   "cell_type": "markdown",
   "metadata": {},
   "source": [
    "## First Algorithm"
   ]
  },
  {
   "cell_type": "code",
   "execution_count": 15,
   "metadata": {},
   "outputs": [],
   "source": [
    "def find_the_worst_oracle(oracles) :\n",
    "    pass\n",
    "\n",
    "def remove_worst_oracles(oracles, N_failing_oracles) :\n",
    "    result = oracles.copy()\n",
    "\n",
    "    for _ in range(N_failing_oracles):\n",
    "        pass\n",
    "\n",
    "    return result    "
   ]
  },
  {
   "cell_type": "code",
   "execution_count": null,
   "metadata": {},
   "outputs": [],
   "source": []
  }
 ],
 "metadata": {
  "kernelspec": {
   "display_name": "algorithmic-project",
   "language": "python",
   "name": "python3"
  },
  "language_info": {
   "codemirror_mode": {
    "name": "ipython",
    "version": 3
   },
   "file_extension": ".py",
   "mimetype": "text/x-python",
   "name": "python",
   "nbconvert_exporter": "python",
   "pygments_lexer": "ipython3",
   "version": "3.11.5"
  }
 },
 "nbformat": 4,
 "nbformat_minor": 2
}
