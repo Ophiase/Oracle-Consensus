{
 "cells": [
  {
   "cell_type": "markdown",
   "metadata": {},
   "source": [
    "# Oracle Consensus Algorithms"
   ]
  },
  {
   "cell_type": "code",
   "execution_count": 5,
   "metadata": {},
   "outputs": [],
   "source": [
    "import numpy as np"
   ]
  },
  {
   "cell_type": "code",
   "execution_count": 11,
   "metadata": {},
   "outputs": [],
   "source": [
    "N_oracles = 20\n",
    "failing_percentage = 0.2\n",
    "N_failing_oracles = round(N_oracles * failing_percentage)\n"
   ]
  },
  {
   "cell_type": "markdown",
   "metadata": {},
   "source": [
    "## 1 dimensional case"
   ]
  },
  {
   "cell_type": "code",
   "execution_count": 14,
   "metadata": {},
   "outputs": [
    {
     "data": {
      "text/plain": [
       "[(-0.8506234646733286, True),\n",
       " (0.8570109902029209, True),\n",
       " (0.250160690891994, True),\n",
       " (0.46240744945340806, False),\n",
       " (1.0061491045280664, True),\n",
       " (0.6014301491106808, True),\n",
       " (-0.25598490559103493, True),\n",
       " (-0.7558396825807011, True),\n",
       " (1.1503044641513682, True),\n",
       " (0.24680183101551234, False),\n",
       " (0.5855396505089693, True),\n",
       " (0.790294166164377, True),\n",
       " (0.43295090636808997, False),\n",
       " (-0.6602540276300051, True),\n",
       " (0.7965457981206614, True),\n",
       " (0.3959373952500156, False),\n",
       " (-0.2826270671676294, True),\n",
       " (-0.19216322275449113, True),\n",
       " (0.9042093045049906, True),\n",
       " (-0.6175962933437651, True)]"
      ]
     },
     "execution_count": 14,
     "metadata": {},
     "output_type": "execute_result"
    }
   ],
   "source": [
    "def normalize(x) :\n",
    "    return np.arctan(x)\n",
    "\n",
    "def generate_oracles(N_oracles, N_failing_oracles, b=0, sigma=1):\n",
    "    oracles = [\n",
    "        (normalize(np.random.normal(b, sigma)), True)\n",
    "        if i >= N_failing_oracles \n",
    "        else (np.random.uniform(0, 1), False)\n",
    "        for i in range(N_oracles)\n",
    "    ]\n",
    "\n",
    "    np.random.shuffle(oracles)\n",
    "\n",
    "    return oracles\n",
    "\n",
    "generate_oracles(N_oracles, N_failing_oracles, 0, 1)"
   ]
  },
  {
   "cell_type": "markdown",
   "metadata": {},
   "source": [
    "## First Algorithm"
   ]
  },
  {
   "cell_type": "code",
   "execution_count": null,
   "metadata": {},
   "outputs": [],
   "source": [
    "def find_worst_oracles():\n",
    "    pass"
   ]
  },
  {
   "cell_type": "code",
   "execution_count": null,
   "metadata": {},
   "outputs": [],
   "source": []
  }
 ],
 "metadata": {
  "kernelspec": {
   "display_name": "algorithmic-project",
   "language": "python",
   "name": "python3"
  },
  "language_info": {
   "codemirror_mode": {
    "name": "ipython",
    "version": 3
   },
   "file_extension": ".py",
   "mimetype": "text/x-python",
   "name": "python",
   "nbconvert_exporter": "python",
   "pygments_lexer": "ipython3",
   "version": "3.11.5"
  }
 },
 "nbformat": 4,
 "nbformat_minor": 2
}
