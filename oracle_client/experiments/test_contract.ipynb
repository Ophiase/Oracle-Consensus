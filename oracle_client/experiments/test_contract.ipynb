{
 "cells": [
  {
   "cell_type": "code",
   "execution_count": null,
   "metadata": {},
   "outputs": [],
   "source": [
    "# following tutorial : https://starknetpy.readthedocs.io/en/latest/guide.html"
   ]
  },
  {
   "cell_type": "code",
   "execution_count": null,
   "metadata": {},
   "outputs": [],
   "source": [
    "from starknet_py.net.full_node_client import FullNodeClient\n",
    "from starknet_py.net.account.account import Account\n",
    "from starknet_py.net.full_node_client import FullNodeClient\n",
    "from starknet_py.net.models.chains import StarknetChainId\n",
    "from starknet_py.net.signer.stark_curve_signer import KeyPair\n",
    "import json\n",
    "import os\n",
    "from starknet_py.contract import Contract\n",
    "from starknet_py.cairo.felt import encode_shortstring\n",
    "from starknet_py.common import create_sierra_compiled_contract\n",
    "\n",
    "from starknet_py.common import create_casm_class\n",
    "from starknet_py.hash.casm_class_hash import compute_casm_class_hash\n",
    "from starknet_py.net.client_models import ResourceBounds, EstimatedFee, PriceUnit\n",
    "from pprint import pprint"
   ]
  },
  {
   "cell_type": "code",
   "execution_count": null,
   "metadata": {},
   "outputs": [],
   "source": [
    "NODE_URL = \"https://free-rpc.nethermind.io/sepolia-juno\"\n",
    "ACCOUNTS_PATH = os.path.join(\"..\", \"sepolia.json\")\n",
    "\n",
    "CONTRACT_DIR = os.path.join(\"..\", \"contracts\")\n",
    "CONTRACT_COMPILED_PATH = os.path.join(CONTRACT_DIR, \"oracle_consensus_OracleConsensusNDS.compiled_contract_class.json\")\n",
    "CONTRACT_CLASS_PATH = os.path.join(CONTRACT_DIR, \"oracle_consensus_OracleConsensusNDS.contract_class.json\")"
   ]
  },
  {
   "cell_type": "code",
   "execution_count": null,
   "metadata": {},
   "outputs": [],
   "source": [
    "DECLARED_CONTRACT = \"0x366c68f0d32b432d120514b1daf9ba6fcc797420747ec0fb1bd991e3413326f\"\n",
    "DEPLOYED_CONTRACT = \"0x2c6df17244002bbdb52e38bfed2216a13180aefffae98e7a33c12c79800a605\"\n",
    "#\"0x75cc5abc0742e260c282b489625a3b7d9111c9fc230e74b9183025ecfc09ef5\"\n"
   ]
  },
  {
   "cell_type": "code",
   "execution_count": null,
   "metadata": {},
   "outputs": [],
   "source": [
    "client = FullNodeClient(node_url=NODE_URL)"
   ]
  },
  {
   "cell_type": "code",
   "execution_count": null,
   "metadata": {},
   "outputs": [],
   "source": [
    "def address_to_felt(x : str) -> int :\n",
    "    return int(x, 16)"
   ]
  },
  {
   "cell_type": "markdown",
   "metadata": {},
   "source": [
    "## Connect accounts\n",
    "---"
   ]
  },
  {
   "cell_type": "code",
   "execution_count": null,
   "metadata": {},
   "outputs": [],
   "source": [
    "def retrieve_accounts():\n",
    "    with open(ACCOUNTS_PATH, 'r') as file:\n",
    "        data = json.load(file)\n",
    "    \n",
    "    addresses = data['addresses']\n",
    "    keys = data['private_keys']\n",
    "\n",
    "    return addresses, keys\n",
    "\n",
    "accounts_addresses, accounts_keys = retrieve_accounts()"
   ]
  },
  {
   "cell_type": "code",
   "execution_count": null,
   "metadata": {},
   "outputs": [],
   "source": [
    "accounts = [\n",
    "    Account(\n",
    "        client=client,\n",
    "        address=address,\n",
    "        key_pair=KeyPair.from_private_key(key),\n",
    "        chain=StarknetChainId.SEPOLIA\n",
    "    ) for address, key in zip(accounts_addresses, accounts_keys)\n",
    "]\n",
    "\n",
    "len(accounts)"
   ]
  },
  {
   "cell_type": "markdown",
   "metadata": {},
   "source": [
    "## Declare / Deploy Contract"
   ]
  },
  {
   "cell_type": "markdown",
   "metadata": {},
   "source": [
    "---"
   ]
  },
  {
   "cell_type": "code",
   "execution_count": null,
   "metadata": {},
   "outputs": [],
   "source": [
    "def get_built_contract() -> dict :\n",
    "    result = dict()\n",
    "\n",
    "    with open(CONTRACT_COMPILED_PATH, 'r', encoding='utf-8') as file:\n",
    "        result['compiled'] = file.read()\n",
    "\n",
    "    with open(CONTRACT_CLASS_PATH, 'r', encoding='utf-8') as file:\n",
    "        result['class_hash'] = file.read()\n",
    "\n",
    "    result['abi'] = create_sierra_compiled_contract(\n",
    "        compiled_contract=result['class_hash']\n",
    "    ).parsed_abi\n",
    "\n",
    "    return result\n",
    "\n",
    "abi = get_built_contract()['abi']"
   ]
  },
  {
   "cell_type": "code",
   "execution_count": null,
   "metadata": {},
   "outputs": [],
   "source": [
    "async def declare():\n",
    "    account = accounts[0]\n",
    "\n",
    "    contract_file_content = get_built_contract()\n",
    "    \n",
    "    casm_class = create_casm_class(contract_file_content['class_hash'])\n",
    "    compiled_class_hash = compute_casm_class_hash(casm_class)\n",
    "\n",
    "    declare_transaction = await account.sign_declare_v3(\n",
    "        contract_file_content['compiled'], compiled_class_hash\n",
    "    )\n",
    "\n",
    "    resp = await account.client.declare(transaction=declare_transaction)\n",
    "    await account.client.wait_for_tx(resp.transaction_hash)\n",
    "\n",
    "    print(f\"declared at : {resp.class_hash}\")\n",
    "\n",
    "    return resp.class_hash\n",
    "\n",
    "async def deploy(abi, class_hash):\n",
    "\n",
    "    constructor_args = {\n",
    "        \"admins\" : [ int(x, 16) for x in\n",
    "            accounts_addresses[:3]],\n",
    "\n",
    "        \"enable_oracle_replacement\" : True,\n",
    "        \"required_majority\" : 2,\n",
    "        \"n_failing_oracles\" : 2, \n",
    "        \n",
    "        \"constrained\" : True,\n",
    "        \"unconstrained_max_spread\" : 0,\n",
    "        \"dimension\" : 2,\n",
    "        \"oracles\": [\n",
    "            int(x, 16) for x in accounts_addresses\n",
    "        ],\n",
    "    }\n",
    "\n",
    "    deploy_result = await Contract.deploy_contract_v3(\n",
    "        account=accounts[2],\n",
    "        class_hash=class_hash,\n",
    "        abi=abi,\n",
    "        l1_resource_bounds=ResourceBounds(400000, 99925789148178),#0.000000015233456997),\n",
    "        constructor_args=constructor_args\n",
    "    )\n",
    "\n",
    "    await deploy_result.wait_for_acceptance()\n",
    "\n",
    "    return deploy_result.deployed_contract()"
   ]
  },
  {
   "cell_type": "code",
   "execution_count": null,
   "metadata": {},
   "outputs": [],
   "source": [
    "# declared_contract = await declare()\n",
    "# declared_contract"
   ]
  },
  {
   "cell_type": "code",
   "execution_count": null,
   "metadata": {},
   "outputs": [],
   "source": [
    "# contract = await deploy(abi, DECLARED_CONTRACT)\n",
    "# contract\n",
    "# 0x041a78e741e5af2fec34b695679bc6891742439f7afb8484ecd7766661ad02bf"
   ]
  },
  {
   "cell_type": "markdown",
   "metadata": {},
   "source": [
    "## Use the Existing contract"
   ]
  },
  {
   "cell_type": "markdown",
   "metadata": {},
   "source": [
    "---"
   ]
  },
  {
   "cell_type": "code",
   "execution_count": null,
   "metadata": {},
   "outputs": [],
   "source": [
    "def replace_i128_with_u128(data):\n",
    "    if isinstance(data, dict):\n",
    "        return {key: replace_i128_with_u128(value) for key, value in data.items()}\n",
    "    elif isinstance(data, list):\n",
    "        return [replace_i128_with_u128(item) for item in data]\n",
    "    elif isinstance(data, str):\n",
    "        return data.replace('i128', 'u128')\n",
    "    else:\n",
    "        return data\n",
    "\n",
    "# abi_as_u128 = replace_i128_with_u128(abi)\n",
    "\n",
    "def to_hex(x: int) -> str:\n",
    "    return f\"0x{x:0x}\""
   ]
  },
  {
   "cell_type": "code",
   "execution_count": null,
   "metadata": {},
   "outputs": [],
   "source": [
    "# contract = Contract(address=DEPLOYED_CONTRACT, abi=abi, provider=accounts[0])\n",
    "# contract = await Contract.from_address(provider=accounts[0], address=DEPLOYED_CONTRACT)"
   ]
  },
  {
   "cell_type": "code",
   "execution_count": null,
   "metadata": {},
   "outputs": [],
   "source": [
    "# resb = ResourceBounds(400000, 99925789148178)\n",
    "# contract.functions['update_prediction'].abi\n",
    "# contract.functions"
   ]
  },
  {
   "cell_type": "code",
   "execution_count": null,
   "metadata": {},
   "outputs": [],
   "source": [
    "predictions = [\n",
    "    [492954726014948928, 334814622544049920],\n",
    "    [437692571090454848, 410445303499263744], \n",
    "    [967794129545080320, 564219801545577856], \n",
    "    [431029386438835904, 387225378439864320], \n",
    "    [487609527760088832, 337990045876390976], \n",
    "    [284178293988284864, 485072442019714880], \n",
    "    [990059578132686080, 558600821433541504]\n",
    "]"
   ]
  },
  {
   "cell_type": "code",
   "execution_count": null,
   "metadata": {},
   "outputs": [],
   "source": [
    "async def update_all_the_predictions():\n",
    "    for i, (prediction, account) in enumerate(zip(predictions, accounts)):\n",
    "        # if i < 5: continue\n",
    "        \n",
    "        print(f\"- {i} : {prediction}\")\n",
    "        print(\"- add: \",to_hex(account.address))\n",
    "\n",
    "        contract = await Contract.from_address(\n",
    "            provider=account, address=DEPLOYED_CONTRACT\n",
    "        )\n",
    "\n",
    "        print(to_hex(contract.address))\n",
    "\n",
    "        r = ResourceBounds(400000, 40932837875699)\n",
    "        f = contract.functions['update_prediction'].prepare_invoke_v3(\n",
    "            prediction=predictions[i], l1_resource_bounds=r\n",
    "        )\n",
    "\n",
    "        print(await f.estimate_fee())\n",
    "\n",
    "        result = await f.invoke()\n",
    "        print(result)\n",
    "        print(\"------------------\")\n",
    "    \n",
    "await update_all_the_predictions()"
   ]
  },
  {
   "cell_type": "code",
   "execution_count": null,
   "metadata": {},
   "outputs": [],
   "source": [
    "        # consensus_value: LegacyMap<usize, i128>, // wad convention\n",
    "        # consensus_reliability_second_pass : i128, // wad convention\n",
    "        # consensus_reliability_first_pass : i128 // wad convention"
   ]
  },
  {
   "cell_type": "code",
   "execution_count": null,
   "metadata": {},
   "outputs": [],
   "source": [
    "contract = await Contract.from_address(\n",
    "    provider=accounts[0], address=DEPLOYED_CONTRACT\n",
    ")"
   ]
  },
  {
   "cell_type": "code",
   "execution_count": null,
   "metadata": {},
   "outputs": [],
   "source": [
    "def wad_to_float(x) :\n",
    "    return float(x) * 1e-18"
   ]
  },
  {
   "cell_type": "code",
   "execution_count": null,
   "metadata": {},
   "outputs": [],
   "source": [
    "contract.functions"
   ]
  },
  {
   "cell_type": "code",
   "execution_count": null,
   "metadata": {},
   "outputs": [],
   "source": [
    "prediction = await contract.functions['get_consensus_value'].call()\n",
    "first_pass_consensus_reliability = await contract.functions[\"get_first_pass_consensus_reliability\"].call()\n",
    "second_pass_consens_reliability = await contract.functions[\"get_second_pass_consensus_reliability\"].call()"
   ]
  },
  {
   "cell_type": "code",
   "execution_count": null,
   "metadata": {},
   "outputs": [],
   "source": [
    "print([wad_to_float(x) for x in prediction[0]])\n",
    "print(wad_to_float(first_pass_consensus_reliability[0]))\n",
    "print(wad_to_float(second_pass_consens_reliability[0]))"
   ]
  },
  {
   "cell_type": "code",
   "execution_count": null,
   "metadata": {},
   "outputs": [],
   "source": []
  }
 ],
 "metadata": {
  "kernelspec": {
   "display_name": "base",
   "language": "python",
   "name": "python3"
  },
  "language_info": {
   "codemirror_mode": {
    "name": "ipython",
    "version": 3
   },
   "file_extension": ".py",
   "mimetype": "text/x-python",
   "name": "python",
   "nbconvert_exporter": "python",
   "pygments_lexer": "ipython3",
   "version": "3.11.5"
  }
 },
 "nbformat": 4,
 "nbformat_minor": 2
}
