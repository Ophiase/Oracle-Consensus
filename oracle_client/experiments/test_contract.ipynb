{
 "cells": [
  {
   "cell_type": "code",
   "execution_count": null,
   "metadata": {},
   "outputs": [],
   "source": [
    "# following tutorial : https://starknetpy.readthedocs.io/en/latest/guide.html"
   ]
  },
  {
   "cell_type": "code",
   "execution_count": 20,
   "metadata": {},
   "outputs": [],
   "source": [
    "from starknet_py.net.full_node_client import FullNodeClient\n",
    "from starknet_py.net.account.account import Account\n",
    "from starknet_py.net.full_node_client import FullNodeClient\n",
    "from starknet_py.net.models.chains import StarknetChainId\n",
    "from starknet_py.net.signer.stark_curve_signer import KeyPair\n",
    "import json\n",
    "import os\n",
    "from starknet_py.contract import Contract\n",
    "from starknet_py.cairo.felt import encode_shortstring\n",
    "from starknet_py.common import create_sierra_compiled_contract"
   ]
  },
  {
   "cell_type": "code",
   "execution_count": 21,
   "metadata": {},
   "outputs": [],
   "source": [
    "NODE_URL = \"https://free-rpc.nethermind.io/sepolia-juno\"\n",
    "ACCOUNTS_PATH = os.path.join(\"..\", \"sepolia.json\")\n",
    "\n",
    "CONTRACT_DIR = os.path.join(\"..\", \"contracts\")\n",
    "CONTRACT_COMPILED_PATH = os.path.join(CONTRACT_DIR, \"oracle_consensus_OracleConsensusND.compiled_contract_class.json\")\n",
    "CONTRACT_CLASS_PATH = os.path.join(CONTRACT_DIR, \"oracle_consensus_OracleConsensusND.contract_class.json\")"
   ]
  },
  {
   "cell_type": "code",
   "execution_count": 22,
   "metadata": {},
   "outputs": [],
   "source": [
    "DECLARED_CONTRACT = \"0x01336fa7c870a7403aced14dda865b75f29113230ed84e3a661f7af70fe83e7b\"\n",
    "DEPLOYED_CONTRACT = \"0x03c750c88c20098a2c29ae47b10b3faca61603ddb8ba23e693c3675b0c3647ab\""
   ]
  },
  {
   "cell_type": "code",
   "execution_count": 23,
   "metadata": {},
   "outputs": [],
   "source": [
    "client = FullNodeClient(node_url=NODE_URL)"
   ]
  },
  {
   "cell_type": "markdown",
   "metadata": {},
   "source": [
    "## Connect accounts\n",
    "---"
   ]
  },
  {
   "cell_type": "code",
   "execution_count": 24,
   "metadata": {},
   "outputs": [],
   "source": [
    "def retrieve_accounts():\n",
    "    with open(ACCOUNTS_PATH, 'r') as file:\n",
    "        data = json.load(file)\n",
    "    \n",
    "    addresses = data['addresses']\n",
    "    keys = data['private_keys']\n",
    "\n",
    "    return addresses, keys\n",
    "\n",
    "accounts_addresses, accounts_keys = retrieve_accounts()"
   ]
  },
  {
   "cell_type": "code",
   "execution_count": 25,
   "metadata": {},
   "outputs": [
    {
     "data": {
      "text/plain": [
       "7"
      ]
     },
     "execution_count": 25,
     "metadata": {},
     "output_type": "execute_result"
    }
   ],
   "source": [
    "accounts = [\n",
    "    Account(\n",
    "        client=client,\n",
    "        address=address,\n",
    "        key_pair=KeyPair.from_private_key(key),\n",
    "        chain=StarknetChainId.SEPOLIA\n",
    "    ) for address, key in zip(accounts_addresses, accounts_keys)\n",
    "]\n",
    "\n",
    "len(accounts)"
   ]
  },
  {
   "cell_type": "markdown",
   "metadata": {},
   "source": [
    "## Declare / Deploy Contract"
   ]
  },
  {
   "cell_type": "markdown",
   "metadata": {},
   "source": [
    "---"
   ]
  },
  {
   "cell_type": "code",
   "execution_count": 28,
   "metadata": {},
   "outputs": [],
   "source": [
    "def get_built_contract() -> dict :\n",
    "    result = dict()\n",
    "\n",
    "    with open(CONTRACT_COMPILED_PATH, 'r', encoding='utf-8') as file:\n",
    "        result['compiled'] = file.read()\n",
    "\n",
    "    with open(CONTRACT_CLASS_PATH, 'r', encoding='utf-8') as file:\n",
    "        result['class_hash'] = file.read()\n",
    "\n",
    "    result['abi'] = create_sierra_compiled_contract(\n",
    "        compiled_contract=result['class_hash']\n",
    "    ).parsed_abi\n",
    "\n",
    "    return result\n",
    "\n",
    "abi = get_built_contract()['abi']"
   ]
  },
  {
   "cell_type": "code",
   "execution_count": null,
   "metadata": {},
   "outputs": [],
   "source": [
    "async def declare():\n",
    "    account = accounts[0]\n",
    "\n",
    "    contract_file_content = get_built_contract()\n",
    "    \n",
    "    declare_transaction = await account.sign_declare_v3(\n",
    "        contract_file_content['compiled'],\n",
    "        max_fee=int(1e16)\n",
    "    )\n",
    "\n",
    "    resp = await account.client.declare(transaction=declare_transaction)\n",
    "    await account.client.wait_for_tx(resp.transaction_hash)\n",
    "\n",
    "    print(f\"declared at : {resp.class_hash}\")\n",
    "\n",
    "    return resp.class_hash\n",
    "\n",
    "async def deploy(abi, class_hash):\n",
    "    contract_file_content = get_built_contract()\n",
    "    \n",
    "    constructor_args = {\n",
    "        \"admins\" : accounts_addresses[:3],\n",
    "\n",
    "        \"enable_oracle_replacement\" : True,\n",
    "        \"required_majority\" : 2,\n",
    "        \"n_failing_oracles\" : 2, \n",
    "        \n",
    "        \"constrained\" : True,\n",
    "        \"dimension\" : 2,\n",
    "        \"oracles\": accounts_addresses,\n",
    "    }\n",
    "\n",
    "    deploy_result = await Contract.deploy_contract_v1(\n",
    "        account=accounts[0],\n",
    "        class_hash=class_hash,\n",
    "        abi=abi,\n",
    "        constructor_args=constructor_args,\n",
    "        max_fee=int(1e16),\n",
    "    )\n",
    "\n",
    "    await deploy_result.wait_for_acceptance()\n",
    "\n",
    "    return deploy_result.deployed_contract()"
   ]
  },
  {
   "cell_type": "markdown",
   "metadata": {},
   "source": [
    "## Use Existing contract"
   ]
  },
  {
   "cell_type": "markdown",
   "metadata": {},
   "source": [
    "---"
   ]
  },
  {
   "cell_type": "code",
   "execution_count": 31,
   "metadata": {},
   "outputs": [],
   "source": [
    "# contract = Contract(address=DEPLOYED_CONTRACT, abi, provider=accounts[0])\n",
    "# contract = await Contract.from_address(provider=accounts[1], address=DEPLOYED_CONTRACT)"
   ]
  }
 ],
 "metadata": {
  "kernelspec": {
   "display_name": "base",
   "language": "python",
   "name": "python3"
  },
  "language_info": {
   "codemirror_mode": {
    "name": "ipython",
    "version": 3
   },
   "file_extension": ".py",
   "mimetype": "text/x-python",
   "name": "python",
   "nbconvert_exporter": "python",
   "pygments_lexer": "ipython3",
   "version": "3.1.-1"
  }
 },
 "nbformat": 4,
 "nbformat_minor": 2
}
