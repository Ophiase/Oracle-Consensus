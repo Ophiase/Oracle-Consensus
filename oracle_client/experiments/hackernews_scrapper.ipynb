{
 "cells": [
  {
   "cell_type": "code",
   "execution_count": 15,
   "metadata": {},
   "outputs": [],
   "source": [
    "from selenium import webdriver\n",
    "from selenium.webdriver.firefox.service import Service\n",
    "from selenium.webdriver.common.by import By\n",
    "from selenium.webdriver.support.ui import WebDriverWait\n",
    "from selenium.webdriver.support import expected_conditions as EC\n",
    "from selenium.webdriver.firefox.options import Options"
   ]
  },
  {
   "cell_type": "code",
   "execution_count": 16,
   "metadata": {},
   "outputs": [],
   "source": [
    "# https://www.selenium.dev/selenium/docs/api/py/\n",
    "# https://github.com/mozilla/geckodriver?tab=readme-ov-file : cargo install geckodriver\n",
    "service = Service(executable_path='~/.cargo/bin/geckodriver')"
   ]
  },
  {
   "cell_type": "code",
   "execution_count": 17,
   "metadata": {},
   "outputs": [],
   "source": [
    "options = Options()\n",
    "options.add_argument('--headless') \n",
    "driver = webdriver.Firefox(options=options)"
   ]
  },
  {
   "cell_type": "code",
   "execution_count": 18,
   "metadata": {},
   "outputs": [
    {
     "name": "stdout",
     "output_type": "stream",
     "text": [
      "Contenu des commentaires :\n",
      "1. its only been a small gap in time where anti-intellectualism was segregated from society. you could ...\n",
      "2. Class is absolutely part of it in my experience. The difference between Chuck and Charles, between C...\n",
      "3. I use Obsidian to take notes with extensive cross-referencing. I mostly keep track of papers/books I...\n",
      "4. Yes, it's been happening more and over over the past decade. 10 years ago, code was on average relat...\n",
      "5. I had one experience with Tesla parts and it was positive.I had an issue with corroded bolts on my M...\n",
      "6. If you think LLMs are overhyped, the rational move is to start an LLM company, since it's practicall...\n",
      "7. Yes, and htmx is basically intercooler.js with jQuery ripped out and some attributes renamed. Interc...\n",
      "8. What do you have in mind by \"set in stone\"? The emit strategy is implementation defined, but pursuin...\n",
      "9. Isn't fedora working on improving some gnu tools?...\n",
      "10. > I really doubt that. Given the absolutely massive disadvantages WFH imposes on an entire company i...\n",
      "11. Don't forget to delete \"does this answer your question?\"...\n",
      "12. > Parents, full design specs, and repair documentationMy parents provided the full design specs for ...\n",
      "13. I assume you’re referring to things like the flu vaccine. Many vaccines can last 10, 20 years or mor...\n",
      "14. > but you really can get by without just fineThe more time goes on, and the cheaper actually running...\n",
      "15. The strategy design pattern would be suitable for this....\n",
      "16. I’ve been coding over 20 years. I’m guilty. But I’ve also learned that for most domains it doesn’t r...\n",
      "17. It's only inertia that makes 'remote' not default in this technological age.Of course some prefer th...\n",
      "18. I'm in England and I don't get what they're saying.Edit - ah I see reading the context now, it's not...\n",
      "19. You are in charge. Congress is your employee....\n",
      "20. I don't know about SSI, but this isn't accurate for SSDI.For SSDI, if your earned income is more tha...\n",
      "21. \"I know remote work existed as a small niche before that, but I can't give capitalism credit for nor...\n",
      "22. Canadian (Toronto) English speaker, although I’ve lived in the US (NYC and Seattle) for a while and ...\n",
      "23. Asianometry has a good ~2 month old video on TI that goes into it's history as a chip maker, how it ...\n",
      "24. False positives are a problem if the response is itself potentially dangerous....\n",
      "25. I used to think the same, until I started working at the place I'm currently at. You can see our pri...\n",
      "26. >You are deluding yourself if you think none of your employees are using their personal phones to ta...\n",
      "27. \"Hungary is set to fight child grooming and exploitation, that is centralised in a few organisations...\n",
      "28. Conservative views are things that worked in the past though. For profit entities are all dedicated ...\n",
      "29. It was the first pass at solving the common problems when building with LLMs. People jumped on it be...\n",
      "30. Parents, full design specs, and repair documentation are three very different things....\n"
     ]
    }
   ],
   "source": [
    "\n",
    "\n",
    "try:\n",
    "    driver.get(\"https://news.ycombinator.com/newcomments\")\n",
    "\n",
    "    WebDriverWait(driver, 10).until(EC.presence_of_element_located((By.CLASS_NAME, \"commtext\")))\n",
    "\n",
    "    js_code = \"\"\"\n",
    "    const divs = document.querySelectorAll('div.commtext.c00');\n",
    "    const contenuTableau = [];\n",
    "    divs.forEach(div => {\n",
    "      const contenu = div.textContent.trim();\n",
    "      contenuTableau.push(contenu);\n",
    "    });\n",
    "    return contenuTableau;\n",
    "    \"\"\"\n",
    "\n",
    "    resultat = driver.execute_script(js_code)\n",
    "\n",
    "    print(\"Contenu des commentaires :\")\n",
    "    for i, commentaire in enumerate(resultat, 1):\n",
    "        print(f\"{i}. {commentaire[:100]}...\")  # Affiche les 100 premiers caractères de chaque commentaire\n",
    "\n",
    "finally:\n",
    "    # Fermer le navigateur\n",
    "    driver.quit()"
   ]
  },
  {
   "cell_type": "code",
   "execution_count": null,
   "metadata": {},
   "outputs": [],
   "source": []
  }
 ],
 "metadata": {
  "kernelspec": {
   "display_name": "base",
   "language": "python",
   "name": "python3"
  },
  "language_info": {
   "codemirror_mode": {
    "name": "ipython",
    "version": 3
   },
   "file_extension": ".py",
   "mimetype": "text/x-python",
   "name": "python",
   "nbconvert_exporter": "python",
   "pygments_lexer": "ipython3",
   "version": "3.11.5"
  }
 },
 "nbformat": 4,
 "nbformat_minor": 2
}
